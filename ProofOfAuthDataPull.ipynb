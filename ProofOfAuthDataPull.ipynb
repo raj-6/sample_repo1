{
 "cells": [
  {
   "cell_type": "code",
   "execution_count": null,
   "metadata": {},
   "outputs": [],
   "source": [
    "# Purpose: speed up proof of auth data pulls\n",
    "# NB: Last version committed hasn't been tested (no VPN right now), but it was broken already"
   ]
  },
  {
   "cell_type": "code",
   "execution_count": null,
   "metadata": {},
   "outputs": [],
   "source": [
    "# Get going with libs and database connections\n",
    "import pandas as pd\n",
    "import sys\n",
    "import datetime\n",
    "# import AHSql"
   ]
  },
  {
   "cell_type": "code",
   "execution_count": null,
   "metadata": {},
   "outputs": [],
   "source": [
    "from os.path import expanduser\n",
    "home = expanduser(\"~\")\n",
    "sys.path.insert(0, home+'/Activehours/data-analysis/Utilities')"
   ]
  },
  {
   "cell_type": "code",
   "execution_count": null,
   "metadata": {},
   "outputs": [],
   "source": [
    "sys.path.append('C:\\\\Users\\\\imtys\\\\Documents\\\\GitHub\\\\data-analysis\\\\Utilities')"
   ]
  },
  {
   "cell_type": "code",
   "execution_count": null,
   "metadata": {},
   "outputs": [],
   "source": [
    "import AHSql"
   ]
  },
  {
   "cell_type": "code",
   "execution_count": null,
   "metadata": {},
   "outputs": [],
   "source": [
    "ahsql = AHSql.AHSql()"
   ]
  },
  {
   "cell_type": "code",
   "execution_count": null,
   "metadata": {},
   "outputs": [],
   "source": [
    "clientsql = AHSql.AHSql(\"clientstate\")"
   ]
  },
  {
   "cell_type": "code",
   "execution_count": null,
   "metadata": {},
   "outputs": [],
   "source": [
    "# Set up data pull\n",
    "firstname = 'Wilson'\n",
    "lastname = 'Instervil'\n",
    "datestring = '2018-04-24' # should be day after restore date listed by CRB (file date -> posted)"
   ]
  },
  {
   "cell_type": "code",
   "execution_count": null,
   "metadata": {},
   "outputs": [],
   "source": [
    "transactionaldata = ahsql.sqlDataFromText(\"\"\"\n",
    "SELECT \n",
    "    a.userid, u.UserName, identifiers.AccountNumber, t.Amount CashoutAmount,\n",
    "    a.tip, a.CreatedOn, a.RestoreDate, ld.UDID, ld.TmStamp, ld.OS, d.DeviceModel\n",
    "FROM (\n",
    "    SELECT t.TransactionId, mmft.AccountNumber, max(ld.LoginID) LoginId\n",
    "    FROM Activations a (nolock)\n",
    "    join transactions t (nolock)\n",
    "    on t.ActivationID = a.ActivationID\n",
    "    inner join MoneyMovement.TransactionsToFundsTransfers mmttft (nolock)\n",
    "    on mmttft.TransactionId = t.TransactionId\n",
    "    inner join MoneyMovement.FundsTransfers mmft (nolock)\n",
    "    on mmft.FundsTransferId = mmttft.FundsTransferId\n",
    "    join users u (nolock)\n",
    "    on u.userid = a.UserID\n",
    "    inner join LoginDetails ld (nolock)\n",
    "    on ld.UserId = a.UserId and ld.TmStamp <= a.CreatedOn\n",
    "    where --AccountNumber = '021214860000865'\n",
    "        FirstName = '{}' and LastName = '{}'\n",
    "    and mmft.PostingDate in ('{}') -- Date after what the bank lists (file v posted)\n",
    "    and TransactionTypeID in (3,4,7)\n",
    "    and t.StatusID in (2,3)\n",
    "    and t.Amount != Tip\n",
    "    AND ld.IsSuccessfulLogin = 1\n",
    "    group by t.TransactionId, mmft.AccountNumber\n",
    ") identifiers\n",
    "inner join Transactions t (nolock)\n",
    "on identifiers.TransactionId = t.TransactionId\n",
    "inner join Activations a (nolock)\n",
    "on t.ActivationId = a.ActivationId\n",
    "inner join LoginDetails ld (nolock)\n",
    "on identifiers.LoginId = ld.LoginID\n",
    "inner join users u (nolock)\n",
    "on u.userid = a.userid\n",
    "inner join devices d (nolock)\n",
    "on d.udid = ld.UDID\n",
    "order by 3\"\"\".format(firstname, lastname, datestring))\n",
    "transactionaldata.head()"
   ]
  },
  {
   "cell_type": "code",
   "execution_count": null,
   "metadata": {},
   "outputs": [],
   "source": [
    "# This query is usually accurate, but not always. It incorrectly assumes that the locationid column is ordered by time, \n",
    "# sequentially. That's usually true, but not always.\n",
    "data_to_add = []\n",
    "for index, row in transactionaldata.iterrows():\n",
    "    client_data = clientsql.sqlDataFromText(\"\"\"\n",
    "    SELECT l.LocationId, n.carriername, n.IpAddress, n.NetworkId, n.NetworkType, n.Status, n.TimeStamp\n",
    "     FROM clientstate.Locations l\n",
    "     INNER JOIN (\n",
    "         SELECT MAX(l.LocationId) LocationId\n",
    "         FROM clientstate.Locations l\n",
    "         LEFT JOIN clientstate.ClientState cs\n",
    "           ON l.LocationId = cs.LocationId\n",
    "         LEFT JOIN clientstate.Networks n\n",
    "           ON cs.NetworkId = n.ClientStateNetworkId\n",
    "         WHERE l.UserId = {userid}\n",
    "         AND DATE_ADD(l.TimeStamp, INTERVAL -5 HOUR) < '{date}'\n",
    "     ) mostrecent\n",
    "     ON mostrecent.LocationId = l.LocationId\n",
    "     LEFT JOIN clientstate.ClientState cs\n",
    "       ON l.LocationId = cs.LocationId\n",
    "     LEFT JOIN clientstate.Networks n\n",
    "       ON cs.NetworkId = n.ClientStateNetworkId\n",
    "     WHERE l.UserId = {userid}\n",
    "     AND DATE_ADD(l.TimeStamp, INTERVAL -5 HOUR) < '{date}'\n",
    "     LIMIT 20\"\"\".format(userid = row['userid'], date = row['TmStamp'])\n",
    "    )\n",
    "    #print(client_data)\n",
    "    carrier = 'WiFi' if client_data['NetworkType'][0].lower() == 'wifi' else client_data['NetworkType'][0] + ' - ' + client_data['carriername'][0]\n",
    "    data_to_add.append({'IP':client_data['IpAddress'][0], 'CarrierTypeAndName':carrier})\n",
    "to_add = pd.DataFrame.from_dict(data_to_add)"
   ]
  },
  {
   "cell_type": "code",
   "execution_count": null,
   "metadata": {},
   "outputs": [],
   "source": [
    "df = pd.concat([transactionaldata, to_add], axis=1)[['CashoutAmount','tip','TmStamp','DeviceModel','CarrierTypeAndName','IP']]"
   ]
  },
  {
   "cell_type": "code",
   "execution_count": null,
   "metadata": {},
   "outputs": [],
   "source": [
    "df['CashoutAmount'] = pd.Series([\"${0:.2f}\".format(val) for val in df['CashoutAmount']], index = df.index)\n",
    "df.columns = ['Amount','Tip' , 'Logged in to cash out', 'Device', 'Carrier Type/Name', 'IP Address']"
   ]
  },
  {
   "cell_type": "code",
   "execution_count": null,
   "metadata": {},
   "outputs": [],
   "source": [
    "df.to_clipboard(index = False, header = False)"
   ]
  },
  {
   "cell_type": "code",
   "execution_count": null,
   "metadata": {},
   "outputs": [],
   "source": [
    "ahsql.disconnect()"
   ]
  },
  {
   "cell_type": "code",
   "execution_count": null,
   "metadata": {},
   "outputs": [],
   "source": [
    "clientsql.disconnect()"
   ]
  },
  {
   "cell_type": "code",
   "execution_count": null,
   "metadata": {},
   "outputs": [],
   "source": []
  }
 ],
 "metadata": {
  "kernelspec": {
   "display_name": "Python 3",
   "language": "python",
   "name": "python3"
  },
  "language_info": {
   "codemirror_mode": {
    "name": "ipython",
    "version": 3
   },
   "file_extension": ".py",
   "mimetype": "text/x-python",
   "name": "python",
   "nbconvert_exporter": "python",
   "pygments_lexer": "ipython3",
   "version": "3.5.4"
  }
 },
 "nbformat": 4,
 "nbformat_minor": 1
}
